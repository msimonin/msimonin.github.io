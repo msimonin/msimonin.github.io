{
 "cells": [
  {
   "cell_type": "markdown",
   "metadata": {},
   "source": [
    "## Getting resources\n",
    "\n",
    "We use [xp5k](https://github.com/pmorillon/xp5k) to manage the interaction with the Grid resources.\n",
    "\n",
    "We create a new ```XP``` and define a new job.\n",
    "\n",
    "Note that ```resources``` are the same as those given in a ```oarsub``` command line."
   ]
  },
  {
   "cell_type": "code",
   "execution_count": 1,
   "metadata": {
    "collapsed": false
   },
   "outputs": [],
   "source": [
    "require 'xp5k'\n",
    "myxp = XP5K::XP.new\n",
    "myxp.define_job({\n",
    "    :resources => [\"nodes=50, walltime=1:00:00\"],\n",
    "    :site      => 'lyon',\n",
    "    :types     => [\"allow_classic_ssh\"],\n",
    "    :name      => \"iruby notebook\" ,\n",
    "    :roles     => [XP5K::Role.new({:name => 'mynode', :size => 50})],\n",
    "    :command   => \"sleep 86400\"\n",
    "    })"
   ]
  },
  {
   "cell_type": "markdown",
   "metadata": {},
   "source": [
    "## Submission\n",
    "\n",
    "```submit``` is asynchronous, ```wait_for_jobs``` will wait for all the resources to be ready."
   ]
  },
  {
   "cell_type": "code",
   "execution_count": 2,
   "metadata": {
    "collapsed": false,
    "scrolled": false
   },
   "outputs": [
    {
     "data": {
      "text/plain": [
       "#<Proc:0x007fabaf947098@/Users/msimonin/msimonin@github.com/xp5k/lib/xp5k/xp.rb:118>"
      ]
     },
     "execution_count": 2,
     "metadata": {},
     "output_type": "execute_result"
    }
   ],
   "source": [
    "myxp.submit\n",
    "myxp.wait_for_jobs"
   ]
  },
  {
   "cell_type": "markdown",
   "metadata": {},
   "source": [
    "## Run command\n",
    "\n",
    "```xp5k/rake``` include some helpers to run commands on the nodes of your reservation."
   ]
  },
  {
   "cell_type": "code",
   "execution_count": 3,
   "metadata": {
    "collapsed": false,
    "scrolled": false
   },
   "outputs": [
    {
     "name": "stdout",
     "output_type": "stream",
     "text": [
      "Connected to sagittaire-18.lyon.grid5000.fr...\n",
      "Connected to sagittaire-20.lyon.grid5000.fr...\n",
      "Connected to sagittaire-2.lyon.grid5000.fr...\n",
      "Connected to sagittaire-22.lyon.grid5000.fr...\n",
      "Connected to sagittaire-28.lyon.grid5000.fr...\n",
      "Connected to sagittaire-3.lyon.grid5000.fr...\n",
      "Connected to sagittaire-29.lyon.grid5000.fr...\n",
      "Connected to sagittaire-30.lyon.grid5000.fr...\n",
      "Connected to sagittaire-24.lyon.grid5000.fr...\n",
      "Connected to sagittaire-19.lyon.grid5000.fr...\n",
      "Connected to sagittaire-33.lyon.grid5000.fr...\n",
      "Connected to sagittaire-31.lyon.grid5000.fr...\n",
      "Connected to sagittaire-32.lyon.grid5000.fr...\n",
      "Connected to sagittaire-34.lyon.grid5000.fr...\n",
      "Connected to sagittaire-46.lyon.grid5000.fr...\n",
      "Connected to sagittaire-47.lyon.grid5000.fr...\n",
      "Connected to sagittaire-5.lyon.grid5000.fr...\n",
      "Connected to sagittaire-50.lyon.grid5000.fr...\n",
      "Connected to sagittaire-53.lyon.grid5000.fr...\n",
      "Connected to sagittaire-55.lyon.grid5000.fr...\n",
      "Connected to sagittaire-56.lyon.grid5000.fr...\n",
      "Connected to sagittaire-57.lyon.grid5000.fr...\n",
      "Connected to sagittaire-58.lyon.grid5000.fr...\n",
      "Connected to sagittaire-59.lyon.grid5000.fr...\n",
      "Connected to sagittaire-6.lyon.grid5000.fr...\n",
      "Connected to sagittaire-64.lyon.grid5000.fr...\n",
      "Connected to sagittaire-66.lyon.grid5000.fr...\n",
      "Connected to sagittaire-65.lyon.grid5000.fr...\n",
      "Connected to sagittaire-67.lyon.grid5000.fr...\n",
      "Connected to sagittaire-69.lyon.grid5000.fr...\n",
      "Connected to sagittaire-7.lyon.grid5000.fr...\n",
      "Connected to sagittaire-71.lyon.grid5000.fr...\n",
      "Connected to sagittaire-72.lyon.grid5000.fr...\n",
      "Connected to sagittaire-74.lyon.grid5000.fr...\n",
      "Connected to sagittaire-75.lyon.grid5000.fr...\n",
      "Connected to sagittaire-77.lyon.grid5000.fr...\n",
      "Connected to sagittaire-78.lyon.grid5000.fr...\n",
      "Connected to sagittaire-9.lyon.grid5000.fr...\n",
      "[stdout][sagittaire-3.lyon.grid5000.fr] 2016-01-13 23:33:27\n",
      "\n",
      "[command][sagittaire-31.lyon.grid5000.fr] uptime -s\n",
      "[command][sagittaire-42.lyon.grid5000.fr] uptime -s\n",
      "[command][sagittaire-45.lyon.grid5000.fr] uptime -s\n",
      "[stdout][sagittaire-31.lyon.grid5000.fr] 2016-01-13 23:33:48\n",
      "\n",
      "[command][sagittaire-46.lyon.grid5000.fr] uptime -s\n",
      "[stdout][sagittaire-34.lyon.grid5000.fr] 2016-01-13 23:33:28\n",
      "\n",
      "[command][sagittaire-48.lyon.grid5000.fr] uptime -s\n",
      "[stdout][sagittaire-33.lyon.grid5000.fr] 2016-01-13 23:33:47\n",
      "\n",
      "[command][sagittaire-49.lyon.grid5000.fr] uptime -s\n",
      "[stdout][sagittaire-38.lyon.grid5000.fr] 2016-01-13 23:33:29\n",
      "\n",
      "[command][sagittaire-5.lyon.grid5000.fr] uptime -s\n",
      "[stdout][sagittaire-39.lyon.grid5000.fr] 2016-01-13 23:33:30\n",
      "\n",
      "[command][sagittaire-50.lyon.grid5000.fr] uptime -s\n",
      "[stdout][sagittaire-4.lyon.grid5000.fr] 2016-01-13 23:33:27\n",
      "\n",
      "[command][sagittaire-52.lyon.grid5000.fr] uptime -s\n",
      "[stdout][sagittaire-42.lyon.grid5000.fr] 2016-01-13 22:36:21\n",
      "\n",
      "[command][sagittaire-53.lyon.grid5000.fr] uptime -s\n",
      "[stdout][sagittaire-48.lyon.grid5000.fr] 2016-01-13 23:33:29\n",
      "\n",
      "[command][sagittaire-58.lyon.grid5000.fr] uptime -s\n",
      "[stdout][sagittaire-56.lyon.grid5000.fr] 2016-01-13 23:33:34\n",
      "\n",
      "[command][sagittaire-67.lyon.grid5000.fr] uptime -s\n",
      "[stdout][sagittaire-57.lyon.grid5000.fr] 2016-01-13 23:33:33\n",
      "\n",
      "[command][sagittaire-69.lyon.grid5000.fr] uptime -s\n",
      "[stdout][sagittaire-58.lyon.grid5000.fr] 2016-01-13 23:33:34\n",
      "\n",
      "[command][sagittaire-7.lyon.grid5000.fr] uptime -s\n",
      "[stdout][sagittaire-6.lyon.grid5000.fr] 2016-01-13 23:33:27\n",
      "\n",
      "[command][sagittaire-71.lyon.grid5000.fr] uptime -s\n",
      "[stdout][sagittaire-63.lyon.grid5000.fr] 2016-01-13 23:33:32\n",
      "\n",
      "[stdout][sagittaire-64.lyon.grid5000.fr] 2016-01-13 23:33:33\n",
      "\n",
      "[command][sagittaire-72.lyon.grid5000.fr] uptime -s\n",
      "[command][sagittaire-74.lyon.grid5000.fr] uptime -s\n",
      "[stdout][sagittaire-65.lyon.grid5000.fr] 2016-01-13 23:33:32\n",
      "\n",
      "[command][sagittaire-75.lyon.grid5000.fr] uptime -s\n",
      "[command][sagittaire-77.lyon.grid5000.fr] uptime -s\n",
      "[stdout][sagittaire-59.lyon.grid5000.fr] 2016-01-13 23:33:33\n",
      "\n",
      "[command][sagittaire-78.lyon.grid5000.fr] uptime -s\n",
      "[command][sagittaire-9.lyon.grid5000.fr] uptime -s\n",
      "[stdout][sagittaire-7.lyon.grid5000.fr] 2016-01-13 23:33:28\n",
      "\n",
      "[stdout][sagittaire-71.lyon.grid5000.fr] 2016-01-13 23:33:49\n",
      "\n",
      "[stdout][sagittaire-72.lyon.grid5000.fr] 2016-01-13 23:33:51\n",
      "\n",
      "[stdout][sagittaire-74.lyon.grid5000.fr] 2016-01-13 19:25:06\n",
      "\n",
      "[stdout][sagittaire-75.lyon.grid5000.fr] 2016-01-13 23:33:53\n",
      "\n",
      "[stdout][sagittaire-77.lyon.grid5000.fr] 2016-01-13 23:33:50\n",
      "\n",
      "[stdout][sagittaire-78.lyon.grid5000.fr] 2016-01-13 23:33:49\n",
      "\n",
      "[stdout][sagittaire-9.lyon.grid5000.fr] 2016-01-13 23:33:29\n",
      "\n",
      "---- sagittaire-18.lyon.grid5000.fr -----------------------------------------------------------------\n",
      "[\"2016-01-13 17:46:48\"]\n",
      "---- sagittaire-19.lyon.grid5000.fr -----------------------------------------------------------------\n",
      "[\"2016-01-13 23:33:28\"]\n",
      "---- sagittaire-2.lyon.grid5000.fr ------------------------------------------------------------------\n",
      "[\"2016-01-13 17:47:00\"]\n",
      "---- sagittaire-20.lyon.grid5000.fr -----------------------------------------------------------------\n",
      "[\"2016-01-13 23:33:28\"]\n",
      "---- sagittaire-22.lyon.grid5000.fr -----------------------------------------------------------------\n",
      "[\"2016-01-13 23:33:40\"]\n",
      "---- sagittaire-24.lyon.grid5000.fr -----------------------------------------------------------------\n",
      "[\"2016-01-13 23:33:28\"]\n",
      "---- sagittaire-28.lyon.grid5000.fr -----------------------------------------------------------------\n",
      "[\"2016-01-13 23:33:31\"]\n",
      "---- sagittaire-29.lyon.grid5000.fr -----------------------------------------------------------------\n",
      "[\"2016-01-13 23:33:32\"]\n",
      "---- sagittaire-3.lyon.grid5000.fr ------------------------------------------------------------------\n",
      "[\"2016-01-13 23:33:27\"]\n",
      "---- sagittaire-30.lyon.grid5000.fr -----------------------------------------------------------------\n",
      "[\"2016-01-13 23:33:31\"]\n",
      "---- sagittaire-31.lyon.grid5000.fr -----------------------------------------------------------------\n",
      "[\"2016-01-13 23:33:48\"]\n",
      "---- sagittaire-32.lyon.grid5000.fr -----------------------------------------------------------------\n",
      "[\"2016-01-13 23:33:31\"]\n",
      "---- sagittaire-33.lyon.grid5000.fr -----------------------------------------------------------------\n",
      "[\"2016-01-13 23:33:47\"]\n",
      "---- sagittaire-34.lyon.grid5000.fr -----------------------------------------------------------------\n",
      "[\"2016-01-13 23:33:28\"]\n",
      "---- sagittaire-38.lyon.grid5000.fr -----------------------------------------------------------------\n",
      "[\"2016-01-13 23:33:29\"]\n",
      "---- sagittaire-39.lyon.grid5000.fr -----------------------------------------------------------------\n",
      "[\"2016-01-13 23:33:30\"]\n",
      "---- sagittaire-4.lyon.grid5000.fr ------------------------------------------------------------------\n",
      "[\"2016-01-13 23:33:27\"]\n",
      "---- sagittaire-42.lyon.grid5000.fr -----------------------------------------------------------------\n",
      "[\"2016-01-13 22:36:21\"]\n",
      "---- sagittaire-43.lyon.grid5000.fr -----------------------------------------------------------------\n",
      "[\"2016-01-13 23:33:28\"]\n",
      "---- sagittaire-45.lyon.grid5000.fr -----------------------------------------------------------------\n",
      "[\"2016-01-13 23:33:29\"]\n",
      "---- sagittaire-46.lyon.grid5000.fr -----------------------------------------------------------------\n",
      "[\"2016-01-13 23:33:29\"]\n",
      "---- sagittaire-47.lyon.grid5000.fr -----------------------------------------------------------------\n",
      "[\"2016-01-13 23:33:30\"]\n",
      "---- sagittaire-48.lyon.grid5000.fr -----------------------------------------------------------------\n",
      "[\"2016-01-13 23:33:29\"]\n",
      "---- sagittaire-49.lyon.grid5000.fr -----------------------------------------------------------------\n",
      "[\"2016-01-13 19:17:10\"]\n",
      "---- sagittaire-5.lyon.grid5000.fr ------------------------------------------------------------------\n",
      "[\"2016-01-13 23:33:27\"]\n",
      "---- sagittaire-50.lyon.grid5000.fr -----------------------------------------------------------------\n",
      "[\"2016-01-13 23:33:29\"]\n",
      "---- sagittaire-52.lyon.grid5000.fr -----------------------------------------------------------------\n",
      "[\"2016-01-13 23:33:29\"]\n",
      "---- sagittaire-53.lyon.grid5000.fr -----------------------------------------------------------------\n",
      "[\"2016-01-13 23:33:30\"]\n",
      "---- sagittaire-54.lyon.grid5000.fr -----------------------------------------------------------------\n",
      "[\"2016-01-13 23:33:31\"]\n",
      "---- sagittaire-55.lyon.grid5000.fr -----------------------------------------------------------------\n",
      "[\"2016-01-13 23:33:33\"]\n",
      "---- sagittaire-56.lyon.grid5000.fr -----------------------------------------------------------------\n",
      "[\"2016-01-13 23:33:34\"]\n",
      "---- sagittaire-57.lyon.grid5000.fr -----------------------------------------------------------------\n",
      "[\"2016-01-13 23:33:33\"]\n",
      "---- sagittaire-58.lyon.grid5000.fr -----------------------------------------------------------------\n",
      "[\"2016-01-13 23:33:34\"]\n",
      "---- sagittaire-59.lyon.grid5000.fr -----------------------------------------------------------------\n",
      "[\"2016-01-13 23:33:33\"]\n",
      "---- sagittaire-6.lyon.grid5000.fr ------------------------------------------------------------------\n",
      "[\"2016-01-13 23:33:27\"]\n",
      "---- sagittaire-61.lyon.grid5000.fr -----------------------------------------------------------------\n",
      "[\"2016-01-13 23:33:34\"]\n",
      "---- sagittaire-63.lyon.grid5000.fr -----------------------------------------------------------------\n",
      "[\"2016-01-13 23:33:32\"]\n",
      "---- sagittaire-64.lyon.grid5000.fr -----------------------------------------------------------------\n",
      "[\"2016-01-13 23:33:33\"]\n",
      "---- sagittaire-65.lyon.grid5000.fr -----------------------------------------------------------------\n",
      "[\"2016-01-13 23:33:32\"]\n",
      "---- sagittaire-66.lyon.grid5000.fr -----------------------------------------------------------------\n",
      "[\"2016-01-13 23:33:33\"]\n",
      "---- sagittaire-67.lyon.grid5000.fr -----------------------------------------------------------------\n",
      "[\"2016-01-13 23:33:32\"]\n",
      "---- sagittaire-69.lyon.grid5000.fr -----------------------------------------------------------------\n",
      "[\"2016-01-13 23:33:33\"]\n",
      "---- sagittaire-7.lyon.grid5000.fr ------------------------------------------------------------------\n",
      "[\"2016-01-13 23:33:28\"]\n",
      "---- sagittaire-71.lyon.grid5000.fr -----------------------------------------------------------------\n",
      "[\"2016-01-13 23:33:49\"]\n",
      "---- sagittaire-72.lyon.grid5000.fr -----------------------------------------------------------------\n",
      "[\"2016-01-13 23:33:51\"]\n",
      "---- sagittaire-74.lyon.grid5000.fr -----------------------------------------------------------------\n",
      "[\"2016-01-13 19:25:06\"]\n",
      "---- sagittaire-75.lyon.grid5000.fr -----------------------------------------------------------------\n",
      "[\"2016-01-13 23:33:53\"]\n",
      "---- sagittaire-77.lyon.grid5000.fr -----------------------------------------------------------------\n",
      "[\"2016-01-13 23:33:50\"]\n",
      "---- sagittaire-78.lyon.grid5000.fr -----------------------------------------------------------------\n",
      "[\"2016-01-13 23:33:49\"]\n",
      "---- sagittaire-9.lyon.grid5000.fr ------------------------------------------------------------------\n",
      "[\"2016-01-13 23:33:29\"]\n",
      "Closing ssh connections...\n"
     ]
    },
    {
     "data": {
      "text/plain": [
       "{\"sagittaire-3.lyon.grid5000.fr\"=>[\"2016-01-13 23:33:27\"], \"sagittaire-2.lyon.grid5000.fr\"=>[\"2016-01-13 17:47:00\"], \"sagittaire-18.lyon.grid5000.fr\"=>[\"2016-01-13 17:46:48\"], \"sagittaire-22.lyon.grid5000.fr\"=>[\"2016-01-13 23:33:40\"], \"sagittaire-28.lyon.grid5000.fr\"=>[\"2016-01-13 23:33:31\"], \"sagittaire-30.lyon.grid5000.fr\"=>[\"2016-01-13 23:33:31\"], \"sagittaire-24.lyon.grid5000.fr\"=>[\"2016-01-13 23:33:28\"], \"sagittaire-20.lyon.grid5000.fr\"=>[\"2016-01-13 23:33:28\"], \"sagittaire-19.lyon.grid5000.fr\"=>[\"2016-01-13 23:33:28\"], \"sagittaire-29.lyon.grid5000.fr\"=>[\"2016-01-13 23:33:32\"], \"sagittaire-31.lyon.grid5000.fr\"=>[\"2016-01-13 23:33:48\"], \"sagittaire-34.lyon.grid5000.fr\"=>[\"2016-01-13 23:33:28\"], \"sagittaire-32.lyon.grid5000.fr\"=>[\"2016-01-13 23:33:31\"], \"sagittaire-33.lyon.grid5000.fr\"=>[\"2016-01-13 23:33:47\"], \"sagittaire-38.lyon.grid5000.fr\"=>[\"2016-01-13 23:33:29\"], \"sagittaire-39.lyon.grid5000.fr\"=>[\"2016-01-13 23:33:30\"], \"sagittaire-4.lyon.grid5000.fr\"=>[\"2016-01-13 23:33:27\"], \"sagittaire-42.lyon.grid5000.fr\"=>[\"2016-01-13 22:36:21\"], \"sagittaire-45.lyon.grid5000.fr\"=>[\"2016-01-13 23:33:29\"], \"sagittaire-43.lyon.grid5000.fr\"=>[\"2016-01-13 23:33:28\"], \"sagittaire-46.lyon.grid5000.fr\"=>[\"2016-01-13 23:33:29\"], \"sagittaire-47.lyon.grid5000.fr\"=>[\"2016-01-13 23:33:30\"], \"sagittaire-48.lyon.grid5000.fr\"=>[\"2016-01-13 23:33:29\"], \"sagittaire-49.lyon.grid5000.fr\"=>[\"2016-01-13 19:17:10\"], \"sagittaire-5.lyon.grid5000.fr\"=>[\"2016-01-13 23:33:27\"], \"sagittaire-52.lyon.grid5000.fr\"=>[\"2016-01-13 23:33:29\"], \"sagittaire-50.lyon.grid5000.fr\"=>[\"2016-01-13 23:33:29\"], \"sagittaire-53.lyon.grid5000.fr\"=>[\"2016-01-13 23:33:30\"], \"sagittaire-54.lyon.grid5000.fr\"=>[\"2016-01-13 23:33:31\"], \"sagittaire-55.lyon.grid5000.fr\"=>[\"2016-01-13 23:33:33\"], \"sagittaire-56.lyon.grid5000.fr\"=>[\"2016-01-13 23:33:34\"], \"sagittaire-57.lyon.grid5000.fr\"=>[\"2016-01-13 23:33:33\"], \"sagittaire-58.lyon.grid5000.fr\"=>[\"2016-01-13 23:33:34\"], \"sagittaire-6.lyon.grid5000.fr\"=>[\"2016-01-13 23:33:27\"], \"sagittaire-63.lyon.grid5000.fr\"=>[\"2016-01-13 23:33:32\"], \"sagittaire-64.lyon.grid5000.fr\"=>[\"2016-01-13 23:33:33\"], \"sagittaire-65.lyon.grid5000.fr\"=>[\"2016-01-13 23:33:32\"], \"sagittaire-66.lyon.grid5000.fr\"=>[\"2016-01-13 23:33:33\"], \"sagittaire-61.lyon.grid5000.fr\"=>[\"2016-01-13 23:33:34\"], \"sagittaire-59.lyon.grid5000.fr\"=>[\"2016-01-13 23:33:33\"], \"sagittaire-67.lyon.grid5000.fr\"=>[\"2016-01-13 23:33:32\"], \"sagittaire-69.lyon.grid5000.fr\"=>[\"2016-01-13 23:33:33\"], \"sagittaire-7.lyon.grid5000.fr\"=>[\"2016-01-13 23:33:28\"], \"sagittaire-71.lyon.grid5000.fr\"=>[\"2016-01-13 23:33:49\"], \"sagittaire-72.lyon.grid5000.fr\"=>[\"2016-01-13 23:33:51\"], \"sagittaire-74.lyon.grid5000.fr\"=>[\"2016-01-13 19:25:06\"], \"sagittaire-75.lyon.grid5000.fr\"=>[\"2016-01-13 23:33:53\"], \"sagittaire-77.lyon.grid5000.fr\"=>[\"2016-01-13 23:33:50\"], \"sagittaire-78.lyon.grid5000.fr\"=>[\"2016-01-13 23:33:49\"], \"sagittaire-9.lyon.grid5000.fr\"=>[\"2016-01-13 23:33:29\"]}"
      ]
     },
     "execution_count": 3,
     "metadata": {},
     "output_type": "execute_result"
    }
   ],
   "source": [
    "require 'xp5k/rake'\n",
    "h = on roles('mynode'), {:user => 'msimonin', :capture => true} do \n",
    "    cmd = ['uptime -s']\n",
    "end"
   ]
  },
  {
   "cell_type": "markdown",
   "metadata": {},
   "source": [
    "## Draw the bar plot\n",
    "\n",
    "The output of the above command is a map :\n",
    "\n",
    " * each key is a server name \n",
    " * a value is the outputs of the commands run on this server\n",
    " \n",
    "e.g : ``` 'sagittaire-1.lyon.grid5000.fr' => ['out1', ... , 'outn'] ```\n",
    "\n",
    "The following code compute the time since last reboot in minute."
   ]
  },
  {
   "cell_type": "code",
   "execution_count": 4,
   "metadata": {
    "collapsed": false,
    "scrolled": false
   },
   "outputs": [
    {
     "data": {
      "text/html": [
       "<script type='text/javascript'>if(window['d3'] === undefined ||\n",
       "   window['Nyaplot'] === undefined){\n",
       "    var path = {\"d3\":\"https://cdnjs.cloudflare.com/ajax/libs/d3/3.5.5/d3.min\",\"downloadable\":\"http://cdn.rawgit.com/domitry/d3-downloadable/master/d3-downloadable\"};\n",
       "\n",
       "\n",
       "\n",
       "    var shim = {\"d3\":{\"exports\":\"d3\"},\"downloadable\":{\"exports\":\"downloadable\"}};\n",
       "\n",
       "    require.config({paths: path, shim:shim});\n",
       "\n",
       "\n",
       "require(['d3'], function(d3){window['d3']=d3;console.log('finished loading d3');require(['downloadable'], function(downloadable){window['downloadable']=downloadable;console.log('finished loading downloadable');\n",
       "\n",
       "\tvar script = d3.select(\"head\")\n",
       "\t    .append(\"script\")\n",
       "\t    .attr(\"src\", \"http://cdn.rawgit.com/domitry/Nyaplotjs/master/release/nyaplot.js\")\n",
       "\t    .attr(\"async\", true);\n",
       "\n",
       "\tscript[0][0].onload = script[0][0].onreadystatechange = function(){\n",
       "\n",
       "\n",
       "\t    var event = document.createEvent(\"HTMLEvents\");\n",
       "\t    event.initEvent(\"load_nyaplot\",false,false);\n",
       "\t    window.dispatchEvent(event);\n",
       "\t    console.log('Finished loading Nyaplotjs');\n",
       "\n",
       "\t};\n",
       "\n",
       "\n",
       "});});\n",
       "}\n",
       "</script>"
      ],
      "text/plain": [
       "\"if(window['d3'] === undefined ||\\n   window['Nyaplot'] === undefined){\\n    var path = {\\\"d3\\\":\\\"https://cdnjs.cloudflare.com/ajax/libs/d3/3.5.5/d3.min\\\",\\\"downloadable\\\":\\\"http://cdn.rawgit.com/domitry/d3-downloadable/master/d3-downloadable\\\"};\\n\\n\\n\\n    var shim = {\\\"d3\\\":{\\\"exports\\\":\\\"d3\\\"},\\\"downloadable\\\":{\\\"exports\\\":\\\"downloadable\\\"}};\\n\\n    require.config({paths: path, shim:shim});\\n\\n\\nrequire(['d3'], function(d3){window['d3']=d3;console.log('finished loading d3');require(['downloadable'], function(downloadable){window['downloadable']=downloadable;console.log('finished loading downloadable');\\n\\n\\tvar script = d3.select(\\\"head\\\")\\n\\t    .append(\\\"script\\\")\\n\\t    .attr(\\\"src\\\", \\\"http://cdn.rawgit.com/domitry/Nyaplotjs/master/release/nyaplot.js\\\")\\n\\t    .attr(\\\"async\\\", true);\\n\\n\\tscript[0][0].onload = script[0][0].onreadystatechange = function(){\\n\\n\\n\\t    var event = document.createEvent(\\\"HTMLEvents\\\");\\n\\t    event.initEvent(\\\"load_nyaplot\\\",false,false);\\n\\t    window.dispatchEvent(event);\\n\\t    console.log('Finished loading Nyaplotjs');\\n\\n\\t};\\n\\n\\n});});\\n}\\n\""
      ]
     },
     "execution_count": 4,
     "metadata": {},
     "output_type": "execute_result"
    },
    {
     "data": {
      "text/html": [
       "<table><tr><th>host</th><th>uptime</th></tr><tr><td>sagittaire-3</td><td>39.43</td></tr><tr><td>sagittaire-2</td><td>385.88</td></tr><tr><td>sagittaire-18</td><td>386.08</td></tr><tr><td>sagittaire-22</td><td>39.22</td></tr><tr><td>sagittaire-28</td><td>39.37</td></tr><tr><td>sagittaire-30</td><td>39.37</td></tr><tr><td>sagittaire-24</td><td>39.42</td></tr><tr><td>sagittaire-20</td><td>39.42</td></tr><tr><td>sagittaire-19</td><td>39.42</td></tr><tr><td>sagittaire-29</td><td>39.35</td></tr><tr><td>sagittaire-31</td><td>39.08</td></tr><tr><td>sagittaire-34</td><td>39.42</td></tr><tr><td>sagittaire-32</td><td>39.37</td></tr><tr><td>sagittaire-33</td><td>39.1</td></tr><tr><td>sagittaire-38</td><td>39.4</td></tr><tr><td>sagittaire-39</td><td>39.38</td></tr><tr><td>...</td><td>...</td></tr><tr><td>sagittaire-9</td><td>39.4</td></tr></table>"
      ],
      "text/plain": [
       "#<Nyaplot::DataFrame:0x007fabacaf7008 @name=\"6f217fab-34eb-43b0-b2f2-e3cbc884a282\", @rows=[{:host=>\"sagittaire-3\", :uptime=>39.43}, {:host=>\"sagittaire-2\", :uptime=>385.88}, {:host=>\"sagittaire-18\", :uptime=>386.08}, {:host=>\"sagittaire-22\", :uptime=>39.22}, {:host=>\"sagittaire-28\", :uptime=>39.37}, {:host=>\"sagittaire-30\", :uptime=>39.37}, {:host=>\"sagittaire-24\", :uptime=>39.42}, {:host=>\"sagittaire-20\", :uptime=>39.42}, {:host=>\"sagittaire-19\", :uptime=>39.42}, {:host=>\"sagittaire-29\", :uptime=>39.35}, {:host=>\"sagittaire-31\", :uptime=>39.08}, {:host=>\"sagittaire-34\", :uptime=>39.42}, {:host=>\"sagittaire-32\", :uptime=>39.37}, {:host=>\"sagittaire-33\", :uptime=>39.1}, {:host=>\"sagittaire-38\", :uptime=>39.4}, {:host=>\"sagittaire-39\", :uptime=>39.38}, {:host=>\"sagittaire-4\", :uptime=>39.43}, {:host=>\"sagittaire-42\", :uptime=>96.53}, {:host=>\"sagittaire-45\", :uptime=>39.4}, {:host=>\"sagittaire-43\", :uptime=>39.42}, {:host=>\"sagittaire-46\", :uptime=>39.4}, {:host=>\"sagittaire-47\", :uptime=>39.38}, {:host=>\"sagittaire-48\", :uptime=>39.4}, {:host=>\"sagittaire-49\", :uptime=>295.72}, {:host=>\"sagittaire-5\", :uptime=>39.43}, {:host=>\"sagittaire-52\", :uptime=>39.4}, {:host=>\"sagittaire-50\", :uptime=>39.4}, {:host=>\"sagittaire-53\", :uptime=>39.38}, {:host=>\"sagittaire-54\", :uptime=>39.37}, {:host=>\"sagittaire-55\", :uptime=>39.33}, {:host=>\"sagittaire-56\", :uptime=>39.32}, {:host=>\"sagittaire-57\", :uptime=>39.33}, {:host=>\"sagittaire-58\", :uptime=>39.32}, {:host=>\"sagittaire-6\", :uptime=>39.43}, {:host=>\"sagittaire-63\", :uptime=>39.35}, {:host=>\"sagittaire-64\", :uptime=>39.33}, {:host=>\"sagittaire-65\", :uptime=>39.35}, {:host=>\"sagittaire-66\", :uptime=>39.33}, {:host=>\"sagittaire-61\", :uptime=>39.32}, {:host=>\"sagittaire-59\", :uptime=>39.33}, {:host=>\"sagittaire-67\", :uptime=>39.35}, {:host=>\"sagittaire-69\", :uptime=>39.33}, {:host=>\"sagittaire-7\", :uptime=>39.42}, {:host=>\"sagittaire-71\", :uptime=>39.07}, {:host=>\"sagittaire-72\", :uptime=>39.03}, {:host=>\"sagittaire-74\", :uptime=>287.78}, {:host=>\"sagittaire-75\", :uptime=>39.0}, {:host=>\"sagittaire-77\", :uptime=>39.05}, {:host=>\"sagittaire-78\", :uptime=>39.07}, {:host=>\"sagittaire-9\", :uptime=>39.4}]>"
      ]
     },
     "execution_count": 4,
     "metadata": {},
     "output_type": "execute_result"
    }
   ],
   "source": [
    "require 'nyaplot'\n",
    "require 'time'\n",
    "\n",
    "now = Time.now.to_i\n",
    "plot = Nyaplot::Plot.new\n",
    "df = Nyaplot::DataFrame.new({\n",
    "    host: h.keys\n",
    "           .map{|x| x.split('.').first},\n",
    "    uptime: h.values\n",
    "             .map{|x| x.first}\n",
    "    .map{|x| ((now - Time.parse(x).to_f)/60).round(2)}\n",
    "    })\n",
    "    "
   ]
  },
  {
   "cell_type": "code",
   "execution_count": 5,
   "metadata": {
    "collapsed": false
   },
   "outputs": [
    {
     "data": {
      "text/html": [
       "<div id='vis-063f219a-3494-42bb-a15f-2b4cfe25fb9c'></div>\n",
       "<script>\n",
       "(function(){\n",
       "    var render = function(){\n",
       "        var model = {\"panes\":[{\"diagrams\":[{\"type\":\"bar\",\"options\":{\"x\":\"host\",\"y\":\"uptime\"},\"data\":\"6f217fab-34eb-43b0-b2f2-e3cbc884a282\"}],\"options\":{\"x_label\":\"\",\"y_label\":\"Uptime (min)\",\"rotate_x_label\":-90,\"width\":700,\"xrange\":[\"sagittaire-3\",\"sagittaire-2\",\"sagittaire-18\",\"sagittaire-22\",\"sagittaire-28\",\"sagittaire-30\",\"sagittaire-24\",\"sagittaire-20\",\"sagittaire-19\",\"sagittaire-29\",\"sagittaire-31\",\"sagittaire-34\",\"sagittaire-32\",\"sagittaire-33\",\"sagittaire-38\",\"sagittaire-39\",\"sagittaire-4\",\"sagittaire-42\",\"sagittaire-45\",\"sagittaire-43\",\"sagittaire-46\",\"sagittaire-47\",\"sagittaire-48\",\"sagittaire-49\",\"sagittaire-5\",\"sagittaire-52\",\"sagittaire-50\",\"sagittaire-53\",\"sagittaire-54\",\"sagittaire-55\",\"sagittaire-56\",\"sagittaire-57\",\"sagittaire-58\",\"sagittaire-6\",\"sagittaire-63\",\"sagittaire-64\",\"sagittaire-65\",\"sagittaire-66\",\"sagittaire-61\",\"sagittaire-59\",\"sagittaire-67\",\"sagittaire-69\",\"sagittaire-7\",\"sagittaire-71\",\"sagittaire-72\",\"sagittaire-74\",\"sagittaire-75\",\"sagittaire-77\",\"sagittaire-78\",\"sagittaire-9\"],\"yrange\":[0,386.08]}}],\"data\":{\"6f217fab-34eb-43b0-b2f2-e3cbc884a282\":[{\"host\":\"sagittaire-3\",\"uptime\":39.43},{\"host\":\"sagittaire-2\",\"uptime\":385.88},{\"host\":\"sagittaire-18\",\"uptime\":386.08},{\"host\":\"sagittaire-22\",\"uptime\":39.22},{\"host\":\"sagittaire-28\",\"uptime\":39.37},{\"host\":\"sagittaire-30\",\"uptime\":39.37},{\"host\":\"sagittaire-24\",\"uptime\":39.42},{\"host\":\"sagittaire-20\",\"uptime\":39.42},{\"host\":\"sagittaire-19\",\"uptime\":39.42},{\"host\":\"sagittaire-29\",\"uptime\":39.35},{\"host\":\"sagittaire-31\",\"uptime\":39.08},{\"host\":\"sagittaire-34\",\"uptime\":39.42},{\"host\":\"sagittaire-32\",\"uptime\":39.37},{\"host\":\"sagittaire-33\",\"uptime\":39.1},{\"host\":\"sagittaire-38\",\"uptime\":39.4},{\"host\":\"sagittaire-39\",\"uptime\":39.38},{\"host\":\"sagittaire-4\",\"uptime\":39.43},{\"host\":\"sagittaire-42\",\"uptime\":96.53},{\"host\":\"sagittaire-45\",\"uptime\":39.4},{\"host\":\"sagittaire-43\",\"uptime\":39.42},{\"host\":\"sagittaire-46\",\"uptime\":39.4},{\"host\":\"sagittaire-47\",\"uptime\":39.38},{\"host\":\"sagittaire-48\",\"uptime\":39.4},{\"host\":\"sagittaire-49\",\"uptime\":295.72},{\"host\":\"sagittaire-5\",\"uptime\":39.43},{\"host\":\"sagittaire-52\",\"uptime\":39.4},{\"host\":\"sagittaire-50\",\"uptime\":39.4},{\"host\":\"sagittaire-53\",\"uptime\":39.38},{\"host\":\"sagittaire-54\",\"uptime\":39.37},{\"host\":\"sagittaire-55\",\"uptime\":39.33},{\"host\":\"sagittaire-56\",\"uptime\":39.32},{\"host\":\"sagittaire-57\",\"uptime\":39.33},{\"host\":\"sagittaire-58\",\"uptime\":39.32},{\"host\":\"sagittaire-6\",\"uptime\":39.43},{\"host\":\"sagittaire-63\",\"uptime\":39.35},{\"host\":\"sagittaire-64\",\"uptime\":39.33},{\"host\":\"sagittaire-65\",\"uptime\":39.35},{\"host\":\"sagittaire-66\",\"uptime\":39.33},{\"host\":\"sagittaire-61\",\"uptime\":39.32},{\"host\":\"sagittaire-59\",\"uptime\":39.33},{\"host\":\"sagittaire-67\",\"uptime\":39.35},{\"host\":\"sagittaire-69\",\"uptime\":39.33},{\"host\":\"sagittaire-7\",\"uptime\":39.42},{\"host\":\"sagittaire-71\",\"uptime\":39.07},{\"host\":\"sagittaire-72\",\"uptime\":39.03},{\"host\":\"sagittaire-74\",\"uptime\":287.78},{\"host\":\"sagittaire-75\",\"uptime\":39.0},{\"host\":\"sagittaire-77\",\"uptime\":39.05},{\"host\":\"sagittaire-78\",\"uptime\":39.07},{\"host\":\"sagittaire-9\",\"uptime\":39.4}]},\"extension\":[]}\n",
       "        var id_name = '#vis-063f219a-3494-42bb-a15f-2b4cfe25fb9c';\n",
       "        Nyaplot.core.parse(model, id_name);\n",
       "\n",
       "        require(['downloadable'], function(downloadable){\n",
       "          var svg = d3.select(id_name).select(\"svg\");\n",
       "\t  if(!svg.empty())\n",
       "\t    svg.call(downloadable().filename('fig'));\n",
       "\t});\n",
       "    };\n",
       "    if(window['Nyaplot']==undefined){\n",
       "        window.addEventListener('load_nyaplot', render, false);\n",
       "\treturn;\n",
       "    } else {\n",
       "       render();\n",
       "    }\n",
       "})();\n",
       "</script>\n"
      ],
      "text/plain": [
       "#<Nyaplot::Plot:0x007fabab7e7148 @properties={:diagrams=>[#<Nyaplot::Diagram:0x007fabab7e6fb8 @properties={:type=>:bar, :options=>{:x=>:host, :y=>:uptime}, :data=>\"6f217fab-34eb-43b0-b2f2-e3cbc884a282\"}, @xrange=[\"sagittaire-3\", \"sagittaire-2\", \"sagittaire-18\", \"sagittaire-22\", \"sagittaire-28\", \"sagittaire-30\", \"sagittaire-24\", \"sagittaire-20\", \"sagittaire-19\", \"sagittaire-29\", \"sagittaire-31\", \"sagittaire-34\", \"sagittaire-32\", \"sagittaire-33\", \"sagittaire-38\", \"sagittaire-39\", \"sagittaire-4\", \"sagittaire-42\", \"sagittaire-45\", \"sagittaire-43\", \"sagittaire-46\", \"sagittaire-47\", \"sagittaire-48\", \"sagittaire-49\", \"sagittaire-5\", \"sagittaire-52\", \"sagittaire-50\", \"sagittaire-53\", \"sagittaire-54\", \"sagittaire-55\", \"sagittaire-56\", \"sagittaire-57\", \"sagittaire-58\", \"sagittaire-6\", \"sagittaire-63\", \"sagittaire-64\", \"sagittaire-65\", \"sagittaire-66\", \"sagittaire-61\", \"sagittaire-59\", \"sagittaire-67\", \"sagittaire-69\", \"sagittaire-7\", \"sagittaire-71\", \"sagittaire-72\", \"sagittaire-74\", \"sagittaire-75\", \"sagittaire-77\", \"sagittaire-78\", \"sagittaire-9\"], @yrange=[0, 386.08]>], :options=>{:x_label=>\"\", :y_label=>\"Uptime (min)\", :rotate_x_label=>-90, :width=>700, :xrange=>[\"sagittaire-3\", \"sagittaire-2\", \"sagittaire-18\", \"sagittaire-22\", \"sagittaire-28\", \"sagittaire-30\", \"sagittaire-24\", \"sagittaire-20\", \"sagittaire-19\", \"sagittaire-29\", \"sagittaire-31\", \"sagittaire-34\", \"sagittaire-32\", \"sagittaire-33\", \"sagittaire-38\", \"sagittaire-39\", \"sagittaire-4\", \"sagittaire-42\", \"sagittaire-45\", \"sagittaire-43\", \"sagittaire-46\", \"sagittaire-47\", \"sagittaire-48\", \"sagittaire-49\", \"sagittaire-5\", \"sagittaire-52\", \"sagittaire-50\", \"sagittaire-53\", \"sagittaire-54\", \"sagittaire-55\", \"sagittaire-56\", \"sagittaire-57\", \"sagittaire-58\", \"sagittaire-6\", \"sagittaire-63\", \"sagittaire-64\", \"sagittaire-65\", \"sagittaire-66\", \"sagittaire-61\", \"sagittaire-59\", \"sagittaire-67\", \"sagittaire-69\", \"sagittaire-7\", \"sagittaire-71\", \"sagittaire-72\", \"sagittaire-74\", \"sagittaire-75\", \"sagittaire-77\", \"sagittaire-78\", \"sagittaire-9\"], :yrange=>[0, 386.08]}}>"
      ]
     },
     "execution_count": 5,
     "metadata": {},
     "output_type": "execute_result"
    }
   ],
   "source": [
    "plot=Nyaplot::Plot.new\n",
    "plot.add_with_df(df, :bar, :host, :uptime)\n",
    "plot.configure do\n",
    "    x_label('')\n",
    "    y_label('Uptime (min)')\n",
    "    rotate_x_label(-90)\n",
    "end\n"
   ]
  },
  {
   "cell_type": "code",
   "execution_count": null,
   "metadata": {
    "collapsed": false
   },
   "outputs": [],
   "source": [
    "myxp.clean"
   ]
  },
  {
   "cell_type": "code",
   "execution_count": null,
   "metadata": {
    "collapsed": true
   },
   "outputs": [],
   "source": []
  }
 ],
 "metadata": {
  "kernelspec": {
   "display_name": "Ruby",
   "language": "ruby",
   "name": "ruby"
  },
  "language_info": {
   "name": "ruby",
   "version": "2.1.2"
  }
 },
 "nbformat": 4,
 "nbformat_minor": 0
}
