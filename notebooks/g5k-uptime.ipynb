{
 "cells": [
  {
   "cell_type": "markdown",
   "metadata": {},
   "source": [
    "## Getting resources\n",
    "\n",
    "We use [xp5k](https://github.com/pmorillon/xp5k) to manage the interaction with the Grid resources.\n",
    "\n",
    "We create a new ```XP``` and define a new job.\n",
    "\n",
    "Note that ```resources``` are the same as those given in a ```oarsub``` command line."
   ]
  },
  {
   "cell_type": "code",
   "execution_count": 6,
   "metadata": {
    "collapsed": true
   },
   "outputs": [
    {
     "data": {
      "text/plain": [
       "{\"jobs\"=>{}, \"roles\"=>{}}"
      ]
     },
     "execution_count": 6,
     "metadata": {},
     "output_type": "execute_result"
    }
   ],
   "source": [
    "require 'xp5k'\n",
    "myxp = XP5K::XP.new\n",
    "myxp.define_job({\n",
    "    :resources => ['nodes=30, walltime=1:00:00'],\n",
    "    :site      => 'lyon',\n",
    "    :types     => [\"allow_classic_ssh\"],\n",
    "    :name      => \"iruby notebook\" ,\n",
    "    :roles     => [XP5K::Role.new({:name => 'mynode', :size => 30})],\n",
    "    :command   => \"sleep 86400\"\n",
    "    })"
   ]
  },
  {
   "cell_type": "markdown",
   "metadata": {},
   "source": [
    "## Submission\n",
    "\n",
    "```submit``` is asynchronous, ```wait_for_jobs``` will wait for all the resources to be ready."
   ]
  },
  {
   "cell_type": "code",
   "execution_count": 7,
   "metadata": {
    "collapsed": true
   },
   "outputs": [
    {
     "data": {
      "text/plain": [
       "#<Proc:0x007fa512b78e78@/Users/msimonin/msimonin@github.com/xp5k/lib/xp5k/xp.rb:118>"
      ]
     },
     "execution_count": 7,
     "metadata": {},
     "output_type": "execute_result"
    }
   ],
   "source": [
    "myxp.submit\n",
    "myxp.wait_for_jobs"
   ]
  },
  {
   "cell_type": "markdown",
   "metadata": {},
   "source": [
    "## Run command\n",
    "\n",
    "```xp5k/rake``` include some helpers to run commands on the nodes of your reservation."
   ]
  },
  {
   "cell_type": "code",
   "execution_count": 8,
   "metadata": {
    "collapsed": true
   },
   "outputs": [
    {
     "name": "stdout",
     "output_type": "stream",
     "text": [
      "Connected to sagittaire-30.lyon.grid5000.fr...\n",
      "Connected to sagittaire-28.lyon.grid5000.fr...\n",
      "Connected to sagittaire-29.lyon.grid5000.fr...\n",
      "Connected to sagittaire-24.lyon.grid5000.fr...\n",
      "Connected to sagittaire-20.lyon.grid5000.fr...\n",
      "Connected to sagittaire-3.lyon.grid5000.fr...\n",
      "Connected to sagittaire-32.lyon.grid5000.fr...\n",
      "Connected to sagittaire-33.lyon.grid5000.fr...\n",
      "Connected to sagittaire-31.lyon.grid5000.fr...\n",
      "Connected to sagittaire-34.lyon.grid5000.fr...\n",
      "Connected to sagittaire-38.lyon.grid5000.fr...\n",
      "Connected to sagittaire-39.lyon.grid5000.fr...\n",
      "Connected to sagittaire-4.lyon.grid5000.fr...\n",
      "Connected to sagittaire-43.lyon.grid5000.fr...\n",
      "Connected to sagittaire-46.lyon.grid5000.fr...\n",
      "Connected to sagittaire-45.lyon.grid5000.fr...\n",
      "Connected to sagittaire-48.lyon.grid5000.fr...\n",
      "Connected to sagittaire-42.lyon.grid5000.fr...\n",
      "Connected to sagittaire-50.lyon.grid5000.fr...\n",
      "Connected to sagittaire-54.lyon.grid5000.fr...\n",
      "Connected to sagittaire-55.lyon.grid5000.fr...\n",
      "Connected to sagittaire-52.lyon.grid5000.fr...\n",
      "Connected to sagittaire-53.lyon.grid5000.fr...\n",
      "Connected to sagittaire-58.lyon.grid5000.fr...\n",
      "Connected to sagittaire-56.lyon.grid5000.fr...\n",
      "Connected to sagittaire-57.lyon.grid5000.fr...\n",
      "[command][sagittaire-20.lyon.grid5000.fr] uptime -s\n",
      "[command][sagittaire-29.lyon.grid5000.fr] uptime -s\n",
      "[command][sagittaire-3.lyon.grid5000.fr] uptime -s\n",
      "[command][sagittaire-30.lyon.grid5000.fr] uptime -s\n",
      "[command][sagittaire-31.lyon.grid5000.fr] uptime -s\n",
      "[command][sagittaire-32.lyon.grid5000.fr] uptime -s\n",
      "[command][sagittaire-33.lyon.grid5000.fr] uptime -s\n",
      "[command][sagittaire-34.lyon.grid5000.fr] uptime -s\n",
      "[stdout][sagittaire-20.lyon.grid5000.fr] 2016-01-10 23:46:23\n",
      "\n",
      "[command][sagittaire-38.lyon.grid5000.fr] uptime -s\n",
      "[stdout][sagittaire-24.lyon.grid5000.fr] 2016-01-10 23:50:33\n",
      "\n",
      "[command][sagittaire-4.lyon.grid5000.fr] uptime -s\n",
      "[stdout][sagittaire-3.lyon.grid5000.fr] 2016-01-10 23:50:32\n",
      "\n",
      "[command][sagittaire-42.lyon.grid5000.fr] uptime -s\n",
      "[stdout][sagittaire-30.lyon.grid5000.fr] 2016-01-10 23:50:33\n",
      "\n",
      "[command][sagittaire-43.lyon.grid5000.fr] uptime -s\n",
      "[stdout][sagittaire-38.lyon.grid5000.fr] 2016-01-10 23:50:34\n",
      "\n",
      "[command][sagittaire-50.lyon.grid5000.fr] uptime -s\n",
      "[stdout][sagittaire-39.lyon.grid5000.fr] 2016-01-10 18:29:49\n",
      "\n",
      "[stdout][sagittaire-50.lyon.grid5000.fr] 2016-01-10 23:50:35\n",
      "\n",
      "[stdout][sagittaire-53.lyon.grid5000.fr] 2016-01-10 23:50:35\n",
      "\n",
      "---- sagittaire-20.lyon.grid5000.fr ------------------------------------------------------------------------------------------------------------------------------------------------------------------------\n",
      "2016-01-10 23:46:23\n",
      "\n",
      "---- sagittaire-24.lyon.grid5000.fr ------------------------------------------------------------------------------------------------------------------------------------------------------------------------\n",
      "2016-01-10 23:50:33\n",
      "\n",
      "---- sagittaire-28.lyon.grid5000.fr ------------------------------------------------------------------------------------------------------------------------------------------------------------------------\n",
      "2016-01-10 23:50:33\n",
      "\n",
      "---- sagittaire-29.lyon.grid5000.fr ------------------------------------------------------------------------------------------------------------------------------------------------------------------------\n",
      "2016-01-10 23:50:33\n",
      "\n",
      "---- sagittaire-3.lyon.grid5000.fr -------------------------------------------------------------------------------------------------------------------------------------------------------------------------\n",
      "2016-01-10 23:50:32\n",
      "\n",
      "---- sagittaire-30.lyon.grid5000.fr ------------------------------------------------------------------------------------------------------------------------------------------------------------------------\n",
      "2016-01-10 23:50:33\n",
      "\n",
      "---- sagittaire-31.lyon.grid5000.fr ------------------------------------------------------------------------------------------------------------------------------------------------------------------------\n",
      "2016-01-10 23:50:52\n",
      "\n",
      "---- sagittaire-32.lyon.grid5000.fr ------------------------------------------------------------------------------------------------------------------------------------------------------------------------\n",
      "2016-01-10 23:50:35\n",
      "\n",
      "---- sagittaire-33.lyon.grid5000.fr ------------------------------------------------------------------------------------------------------------------------------------------------------------------------\n",
      "2016-01-10 23:50:52\n",
      "\n",
      "---- sagittaire-34.lyon.grid5000.fr ------------------------------------------------------------------------------------------------------------------------------------------------------------------------\n",
      "2016-01-10 23:50:31\n",
      "\n",
      "---- sagittaire-38.lyon.grid5000.fr ------------------------------------------------------------------------------------------------------------------------------------------------------------------------\n",
      "2016-01-10 23:50:34\n",
      "\n",
      "---- sagittaire-39.lyon.grid5000.fr ------------------------------------------------------------------------------------------------------------------------------------------------------------------------\n",
      "2016-01-10 18:29:49\n",
      "\n",
      "---- sagittaire-4.lyon.grid5000.fr -------------------------------------------------------------------------------------------------------------------------------------------------------------------------\n",
      "2016-01-10 23:50:33\n",
      "\n",
      "---- sagittaire-42.lyon.grid5000.fr ------------------------------------------------------------------------------------------------------------------------------------------------------------------------\n",
      "2016-01-10 23:50:34\n",
      "\n",
      "---- sagittaire-43.lyon.grid5000.fr ------------------------------------------------------------------------------------------------------------------------------------------------------------------------\n",
      "2016-01-10 23:50:36\n",
      "\n",
      "---- sagittaire-45.lyon.grid5000.fr ------------------------------------------------------------------------------------------------------------------------------------------------------------------------\n",
      "2016-01-10 23:50:34\n",
      "\n",
      "---- sagittaire-46.lyon.grid5000.fr ------------------------------------------------------------------------------------------------------------------------------------------------------------------------\n",
      "2016-01-10 23:39:10\n",
      "\n",
      "---- sagittaire-48.lyon.grid5000.fr ------------------------------------------------------------------------------------------------------------------------------------------------------------------------\n",
      "2016-01-10 23:50:36\n",
      "\n",
      "---- sagittaire-49.lyon.grid5000.fr ------------------------------------------------------------------------------------------------------------------------------------------------------------------------\n",
      "2016-01-10 23:52:11\n",
      "\n",
      "---- sagittaire-5.lyon.grid5000.fr -------------------------------------------------------------------------------------------------------------------------------------------------------------------------\n",
      "2016-01-10 23:50:33\n",
      "\n",
      "---- sagittaire-50.lyon.grid5000.fr ------------------------------------------------------------------------------------------------------------------------------------------------------------------------\n",
      "2016-01-10 23:50:35\n",
      "\n",
      "---- sagittaire-52.lyon.grid5000.fr ------------------------------------------------------------------------------------------------------------------------------------------------------------------------\n",
      "2016-01-10 23:39:09\n",
      "\n",
      "---- sagittaire-53.lyon.grid5000.fr ------------------------------------------------------------------------------------------------------------------------------------------------------------------------\n",
      "2016-01-10 23:50:35\n",
      "\n",
      "---- sagittaire-54.lyon.grid5000.fr ------------------------------------------------------------------------------------------------------------------------------------------------------------------------\n",
      "2016-01-10 23:50:36\n",
      "\n",
      "---- sagittaire-55.lyon.grid5000.fr ------------------------------------------------------------------------------------------------------------------------------------------------------------------------\n",
      "2016-01-10 23:52:11\n",
      "\n",
      "---- sagittaire-56.lyon.grid5000.fr ------------------------------------------------------------------------------------------------------------------------------------------------------------------------\n",
      "2016-01-10 23:50:37\n",
      "\n",
      "---- sagittaire-57.lyon.grid5000.fr ------------------------------------------------------------------------------------------------------------------------------------------------------------------------\n",
      "2016-01-10 18:29:52\n",
      "\n",
      "---- sagittaire-58.lyon.grid5000.fr ------------------------------------------------------------------------------------------------------------------------------------------------------------------------\n",
      "2016-01-10 23:50:36\n",
      "\n",
      "---- sagittaire-59.lyon.grid5000.fr ------------------------------------------------------------------------------------------------------------------------------------------------------------------------\n",
      "2016-01-10 23:50:37\n",
      "\n",
      "---- sagittaire-9.lyon.grid5000.fr -------------------------------------------------------------------------------------------------------------------------------------------------------------------------\n",
      "2016-01-10 23:50:32\n",
      "\n",
      "Closing ssh connections...\n"
     ]
    },
    {
     "data": {
      "text/plain": [
       "{\"sagittaire-20.lyon.grid5000.fr\"=>[\"2016-01-10 23:46:23\"], \"sagittaire-24.lyon.grid5000.fr\"=>[\"2016-01-10 23:50:33\"], \"sagittaire-28.lyon.grid5000.fr\"=>[\"2016-01-10 23:50:33\"], \"sagittaire-3.lyon.grid5000.fr\"=>[\"2016-01-10 23:50:32\"], \"sagittaire-30.lyon.grid5000.fr\"=>[\"2016-01-10 23:50:33\"], \"sagittaire-32.lyon.grid5000.fr\"=>[\"2016-01-10 23:50:35\"], \"sagittaire-31.lyon.grid5000.fr\"=>[\"2016-01-10 23:50:52\"], \"sagittaire-29.lyon.grid5000.fr\"=>[\"2016-01-10 23:50:33\"], \"sagittaire-33.lyon.grid5000.fr\"=>[\"2016-01-10 23:50:52\"], \"sagittaire-34.lyon.grid5000.fr\"=>[\"2016-01-10 23:50:31\"], \"sagittaire-38.lyon.grid5000.fr\"=>[\"2016-01-10 23:50:34\"], \"sagittaire-39.lyon.grid5000.fr\"=>[\"2016-01-10 18:29:49\"], \"sagittaire-4.lyon.grid5000.fr\"=>[\"2016-01-10 23:50:33\"], \"sagittaire-42.lyon.grid5000.fr\"=>[\"2016-01-10 23:50:34\"], \"sagittaire-43.lyon.grid5000.fr\"=>[\"2016-01-10 23:50:36\"], \"sagittaire-45.lyon.grid5000.fr\"=>[\"2016-01-10 23:50:34\"], \"sagittaire-46.lyon.grid5000.fr\"=>[\"2016-01-10 23:39:10\"], \"sagittaire-48.lyon.grid5000.fr\"=>[\"2016-01-10 23:50:36\"], \"sagittaire-49.lyon.grid5000.fr\"=>[\"2016-01-10 23:52:11\"], \"sagittaire-5.lyon.grid5000.fr\"=>[\"2016-01-10 23:50:33\"], \"sagittaire-50.lyon.grid5000.fr\"=>[\"2016-01-10 23:50:35\"], \"sagittaire-52.lyon.grid5000.fr\"=>[\"2016-01-10 23:39:09\"], \"sagittaire-54.lyon.grid5000.fr\"=>[\"2016-01-10 23:50:36\"], \"sagittaire-53.lyon.grid5000.fr\"=>[\"2016-01-10 23:50:35\"], \"sagittaire-55.lyon.grid5000.fr\"=>[\"2016-01-10 23:52:11\"], \"sagittaire-57.lyon.grid5000.fr\"=>[\"2016-01-10 18:29:52\"], \"sagittaire-56.lyon.grid5000.fr\"=>[\"2016-01-10 23:50:37\"], \"sagittaire-58.lyon.grid5000.fr\"=>[\"2016-01-10 23:50:36\"], \"sagittaire-59.lyon.grid5000.fr\"=>[\"2016-01-10 23:50:37\"], \"sagittaire-9.lyon.grid5000.fr\"=>[\"2016-01-10 23:50:32\"]}"
      ]
     },
     "execution_count": 8,
     "metadata": {},
     "output_type": "execute_result"
    }
   ],
   "source": [
    "require 'xp5k/rake'\n",
    "h = on roles('mynode'), {:user => 'msimonin', :capture => true} do \n",
    "    'uptime -s'\n",
    "end"
   ]
  },
  {
   "cell_type": "markdown",
   "metadata": {},
   "source": [
    "## Draw the bar plot\n",
    "\n",
    "The output of the above command is a map :\n",
    "\n",
    " * each key is a server name \n",
    " * a value is the outputs of the commands run on this server\n",
    " \n",
    "e.g : ``` 'sagittaire-1.lyon.grid5000.fr' => ['out1', ... , 'outn'] ```\n",
    "\n",
    "The following code compute the time since last reboot in minute."
   ]
  },
  {
   "cell_type": "code",
   "execution_count": 9,
   "metadata": {
    "collapsed": false
   },
   "outputs": [
    {
     "data": {
      "text/html": [
       "<table><tr><th>host</th><th>uptime</th></tr><tr><td>sagittaire-20</td><td>19.58</td></tr><tr><td>sagittaire-24</td><td>15.42</td></tr><tr><td>sagittaire-28</td><td>15.42</td></tr><tr><td>sagittaire-3</td><td>15.43</td></tr><tr><td>sagittaire-30</td><td>15.42</td></tr><tr><td>sagittaire-32</td><td>15.38</td></tr><tr><td>sagittaire-31</td><td>15.1</td></tr><tr><td>sagittaire-29</td><td>15.42</td></tr><tr><td>sagittaire-33</td><td>15.1</td></tr><tr><td>sagittaire-34</td><td>15.45</td></tr><tr><td>sagittaire-38</td><td>15.4</td></tr><tr><td>sagittaire-39</td><td>336.15</td></tr><tr><td>sagittaire-4</td><td>15.42</td></tr><tr><td>sagittaire-42</td><td>15.4</td></tr><tr><td>sagittaire-43</td><td>15.37</td></tr><tr><td>sagittaire-45</td><td>15.4</td></tr><tr><td>...</td><td>...</td></tr><tr><td>sagittaire-9</td><td>15.43</td></tr></table>"
      ],
      "text/plain": [
       "#<Nyaplot::DataFrame:0x007fa51282a910 @name=\"9190bdf2-7834-4b3e-bc7e-b2abc43eadbf\", @rows=[{:host=>\"sagittaire-20\", :uptime=>19.58}, {:host=>\"sagittaire-24\", :uptime=>15.42}, {:host=>\"sagittaire-28\", :uptime=>15.42}, {:host=>\"sagittaire-3\", :uptime=>15.43}, {:host=>\"sagittaire-30\", :uptime=>15.42}, {:host=>\"sagittaire-32\", :uptime=>15.38}, {:host=>\"sagittaire-31\", :uptime=>15.1}, {:host=>\"sagittaire-29\", :uptime=>15.42}, {:host=>\"sagittaire-33\", :uptime=>15.1}, {:host=>\"sagittaire-34\", :uptime=>15.45}, {:host=>\"sagittaire-38\", :uptime=>15.4}, {:host=>\"sagittaire-39\", :uptime=>336.15}, {:host=>\"sagittaire-4\", :uptime=>15.42}, {:host=>\"sagittaire-42\", :uptime=>15.4}, {:host=>\"sagittaire-43\", :uptime=>15.37}, {:host=>\"sagittaire-45\", :uptime=>15.4}, {:host=>\"sagittaire-46\", :uptime=>26.8}, {:host=>\"sagittaire-48\", :uptime=>15.37}, {:host=>\"sagittaire-49\", :uptime=>13.78}, {:host=>\"sagittaire-5\", :uptime=>15.42}, {:host=>\"sagittaire-50\", :uptime=>15.38}, {:host=>\"sagittaire-52\", :uptime=>26.82}, {:host=>\"sagittaire-54\", :uptime=>15.37}, {:host=>\"sagittaire-53\", :uptime=>15.38}, {:host=>\"sagittaire-55\", :uptime=>13.78}, {:host=>\"sagittaire-57\", :uptime=>336.1}, {:host=>\"sagittaire-56\", :uptime=>15.35}, {:host=>\"sagittaire-58\", :uptime=>15.37}, {:host=>\"sagittaire-59\", :uptime=>15.35}, {:host=>\"sagittaire-9\", :uptime=>15.43}]>"
      ]
     },
     "execution_count": 9,
     "metadata": {},
     "output_type": "execute_result"
    }
   ],
   "source": [
    "require 'nyaplot'\n",
    "require 'time'\n",
    "\n",
    "now = Time.now.to_i\n",
    "plot = Nyaplot::Plot.new\n",
    "df = Nyaplot::DataFrame.new({\n",
    "    host: h.keys\n",
    "           .map{|x| x.split('.').first},\n",
    "    uptime: h.values\n",
    "             .map{|x| x.first}\n",
    "    .map{|x| ((now - Time.parse(x).to_f)/60).round(2)}\n",
    "    })\n",
    "    "
   ]
  },
  {
   "cell_type": "code",
   "execution_count": 10,
   "metadata": {
    "collapsed": false,
    "scrolled": true
   },
   "outputs": [
    {
     "data": {
      "text/html": [
       "<div id='vis-4d40052a-a107-4dc6-a96e-f8c4a49b937d'></div>\n",
       "<script>\n",
       "(function(){\n",
       "    var render = function(){\n",
       "        var model = {\"panes\":[{\"diagrams\":[{\"type\":\"bar\",\"options\":{\"x\":\"host\",\"y\":\"uptime\"},\"data\":\"9190bdf2-7834-4b3e-bc7e-b2abc43eadbf\"}],\"options\":{\"x_label\":\"\",\"y_label\":\"Uptime (ms)\",\"rotate_x_label\":-90,\"width\":700,\"xrange\":[\"sagittaire-20\",\"sagittaire-24\",\"sagittaire-28\",\"sagittaire-3\",\"sagittaire-30\",\"sagittaire-32\",\"sagittaire-31\",\"sagittaire-29\",\"sagittaire-33\",\"sagittaire-34\",\"sagittaire-38\",\"sagittaire-39\",\"sagittaire-4\",\"sagittaire-42\",\"sagittaire-43\",\"sagittaire-45\",\"sagittaire-46\",\"sagittaire-48\",\"sagittaire-49\",\"sagittaire-5\",\"sagittaire-50\",\"sagittaire-52\",\"sagittaire-54\",\"sagittaire-53\",\"sagittaire-55\",\"sagittaire-57\",\"sagittaire-56\",\"sagittaire-58\",\"sagittaire-59\",\"sagittaire-9\"],\"yrange\":[0,336.15]}}],\"data\":{\"9190bdf2-7834-4b3e-bc7e-b2abc43eadbf\":[{\"host\":\"sagittaire-20\",\"uptime\":19.58},{\"host\":\"sagittaire-24\",\"uptime\":15.42},{\"host\":\"sagittaire-28\",\"uptime\":15.42},{\"host\":\"sagittaire-3\",\"uptime\":15.43},{\"host\":\"sagittaire-30\",\"uptime\":15.42},{\"host\":\"sagittaire-32\",\"uptime\":15.38},{\"host\":\"sagittaire-31\",\"uptime\":15.1},{\"host\":\"sagittaire-29\",\"uptime\":15.42},{\"host\":\"sagittaire-33\",\"uptime\":15.1},{\"host\":\"sagittaire-34\",\"uptime\":15.45},{\"host\":\"sagittaire-38\",\"uptime\":15.4},{\"host\":\"sagittaire-39\",\"uptime\":336.15},{\"host\":\"sagittaire-4\",\"uptime\":15.42},{\"host\":\"sagittaire-42\",\"uptime\":15.4},{\"host\":\"sagittaire-43\",\"uptime\":15.37},{\"host\":\"sagittaire-45\",\"uptime\":15.4},{\"host\":\"sagittaire-46\",\"uptime\":26.8},{\"host\":\"sagittaire-48\",\"uptime\":15.37},{\"host\":\"sagittaire-49\",\"uptime\":13.78},{\"host\":\"sagittaire-5\",\"uptime\":15.42},{\"host\":\"sagittaire-50\",\"uptime\":15.38},{\"host\":\"sagittaire-52\",\"uptime\":26.82},{\"host\":\"sagittaire-54\",\"uptime\":15.37},{\"host\":\"sagittaire-53\",\"uptime\":15.38},{\"host\":\"sagittaire-55\",\"uptime\":13.78},{\"host\":\"sagittaire-57\",\"uptime\":336.1},{\"host\":\"sagittaire-56\",\"uptime\":15.35},{\"host\":\"sagittaire-58\",\"uptime\":15.37},{\"host\":\"sagittaire-59\",\"uptime\":15.35},{\"host\":\"sagittaire-9\",\"uptime\":15.43}]},\"extension\":[]}\n",
       "        var id_name = '#vis-4d40052a-a107-4dc6-a96e-f8c4a49b937d';\n",
       "        Nyaplot.core.parse(model, id_name);\n",
       "\n",
       "        require(['downloadable'], function(downloadable){\n",
       "          var svg = d3.select(id_name).select(\"svg\");\n",
       "\t  if(!svg.empty())\n",
       "\t    svg.call(downloadable().filename('fig'));\n",
       "\t});\n",
       "    };\n",
       "    if(window['Nyaplot']==undefined){\n",
       "        window.addEventListener('load_nyaplot', render, false);\n",
       "\treturn;\n",
       "    } else {\n",
       "       render();\n",
       "    }\n",
       "})();\n",
       "</script>\n"
      ],
      "text/plain": [
       "#<Nyaplot::Plot:0x007fa51207bea8 @properties={:diagrams=>[#<Nyaplot::Diagram:0x007fa51207bac0 @properties={:type=>:bar, :options=>{:x=>:host, :y=>:uptime}, :data=>\"9190bdf2-7834-4b3e-bc7e-b2abc43eadbf\"}, @xrange=[\"sagittaire-20\", \"sagittaire-24\", \"sagittaire-28\", \"sagittaire-3\", \"sagittaire-30\", \"sagittaire-32\", \"sagittaire-31\", \"sagittaire-29\", \"sagittaire-33\", \"sagittaire-34\", \"sagittaire-38\", \"sagittaire-39\", \"sagittaire-4\", \"sagittaire-42\", \"sagittaire-43\", \"sagittaire-45\", \"sagittaire-46\", \"sagittaire-48\", \"sagittaire-49\", \"sagittaire-5\", \"sagittaire-50\", \"sagittaire-52\", \"sagittaire-54\", \"sagittaire-53\", \"sagittaire-55\", \"sagittaire-57\", \"sagittaire-56\", \"sagittaire-58\", \"sagittaire-59\", \"sagittaire-9\"], @yrange=[0, 336.15]>], :options=>{:x_label=>\"\", :y_label=>\"Uptime (ms)\", :rotate_x_label=>-90, :width=>700, :xrange=>[\"sagittaire-20\", \"sagittaire-24\", \"sagittaire-28\", \"sagittaire-3\", \"sagittaire-30\", \"sagittaire-32\", \"sagittaire-31\", \"sagittaire-29\", \"sagittaire-33\", \"sagittaire-34\", \"sagittaire-38\", \"sagittaire-39\", \"sagittaire-4\", \"sagittaire-42\", \"sagittaire-43\", \"sagittaire-45\", \"sagittaire-46\", \"sagittaire-48\", \"sagittaire-49\", \"sagittaire-5\", \"sagittaire-50\", \"sagittaire-52\", \"sagittaire-54\", \"sagittaire-53\", \"sagittaire-55\", \"sagittaire-57\", \"sagittaire-56\", \"sagittaire-58\", \"sagittaire-59\", \"sagittaire-9\"], :yrange=>[0, 336.15]}}>"
      ]
     },
     "execution_count": 10,
     "metadata": {},
     "output_type": "execute_result"
    }
   ],
   "source": [
    "plot=Nyaplot::Plot.new\n",
    "plot.add_with_df(df, :bar, :host, :uptime)\n",
    "plot.configure do\n",
    "    x_label('')\n",
    "    y_label('Uptime (ms)')\n",
    "    rotate_x_label(-90)\n",
    "end\n"
   ]
  },
  {
   "cell_type": "code",
   "execution_count": null,
   "metadata": {
    "collapsed": false
   },
   "outputs": [],
   "source": [
    "myxp.clean"
   ]
  }
 ],
 "metadata": {
  "kernelspec": {
   "display_name": "Ruby",
   "language": "ruby",
   "name": "ruby"
  },
  "language_info": {
   "name": "ruby",
   "version": "2.1.2"
  }
 },
 "nbformat": 4,
 "nbformat_minor": 0
}
