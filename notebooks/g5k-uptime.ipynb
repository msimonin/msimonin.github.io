{
 "cells": [
  {
   "cell_type": "markdown",
   "metadata": {},
   "source": [
    "## Getting resources\n",
    "\n",
    "We use [xp5k](https://github.com/pmorillon/xp5k) to manage the interaction with the Grid resources.\n",
    "\n",
    "We create a new ```XP``` and define a new job.\n",
    "\n",
    "Note that ```resources``` are the same as those given in a ```oarsub``` command line."
   ]
  },
  {
   "cell_type": "code",
   "execution_count": 1,
   "metadata": {
    "collapsed": false
   },
   "outputs": [],
   "source": [
    "require 'xp5k'\n",
    "myxp = XP5K::XP.new\n",
    "myxp.define_job({\n",
    "    :resources => ['nodes=30, walltime=1:00:00'],\n",
    "    :site      => 'lyon',\n",
    "    :types     => [\"allow_classic_ssh\"],\n",
    "    :name      => \"iruby notebook\" ,\n",
    "    :roles     => [XP5K::Role.new({:name => 'mynode', :size => 30})],\n",
    "    :command   => \"sleep 86400\"\n",
    "    })"
   ]
  },
  {
   "cell_type": "markdown",
   "metadata": {},
   "source": [
    "## Submission\n",
    "\n",
    "```submit``` is asynchronous, ```wait_for_jobs``` will wait for all the resources to be ready."
   ]
  },
  {
   "cell_type": "code",
   "execution_count": 2,
   "metadata": {
    "collapsed": false,
    "scrolled": true
   },
   "outputs": [
    {
     "data": {
      "text/plain": [
       "#<Proc:0x007fa51531e540@/Users/msimonin/msimonin@github.com/xp5k/lib/xp5k/xp.rb:118>"
      ]
     },
     "execution_count": 2,
     "metadata": {},
     "output_type": "execute_result"
    }
   ],
   "source": [
    "myxp.submit\n",
    "myxp.wait_for_jobs"
   ]
  },
  {
   "cell_type": "markdown",
   "metadata": {},
   "source": [
    "## Run command\n",
    "\n",
    "```xp5k/rake``` include some helpers to run commands on the nodes of your reservation."
   ]
  },
  {
   "cell_type": "markdown",
   "metadata": {},
   "source": [
    "## Draw the bar plot\n",
    "\n",
    "The output of the above command is a map :\n",
    "\n",
    " * each key is a server name \n",
    " * a value is the outputs of the commands run on this server\n",
    " \n",
    "e.g : ``` 'sagittaire-1.lyon.grid5000.fr' => ['out1', ... , 'outn'] ```\n",
    "\n",
    "The following code compute the time since last reboot in minute."
   ]
  },
  {
   "cell_type": "code",
   "execution_count": 4,
   "metadata": {
    "collapsed": false
   },
   "outputs": [
    {
     "data": {
      "text/html": [
       "<script type='text/javascript'>if(window['d3'] === undefined ||\n",
       "   window['Nyaplot'] === undefined){\n",
       "    var path = {\"d3\":\"https://cdnjs.cloudflare.com/ajax/libs/d3/3.5.5/d3.min\",\"downloadable\":\"http://cdn.rawgit.com/domitry/d3-downloadable/master/d3-downloadable\"};\n",
       "\n",
       "\n",
       "\n",
       "    var shim = {\"d3\":{\"exports\":\"d3\"},\"downloadable\":{\"exports\":\"downloadable\"}};\n",
       "\n",
       "    require.config({paths: path, shim:shim});\n",
       "\n",
       "\n",
       "require(['d3'], function(d3){window['d3']=d3;console.log('finished loading d3');require(['downloadable'], function(downloadable){window['downloadable']=downloadable;console.log('finished loading downloadable');\n",
       "\n",
       "\tvar script = d3.select(\"head\")\n",
       "\t    .append(\"script\")\n",
       "\t    .attr(\"src\", \"http://cdn.rawgit.com/domitry/Nyaplotjs/master/release/nyaplot.js\")\n",
       "\t    .attr(\"async\", true);\n",
       "\n",
       "\tscript[0][0].onload = script[0][0].onreadystatechange = function(){\n",
       "\n",
       "\n",
       "\t    var event = document.createEvent(\"HTMLEvents\");\n",
       "\t    event.initEvent(\"load_nyaplot\",false,false);\n",
       "\t    window.dispatchEvent(event);\n",
       "\t    console.log('Finished loading Nyaplotjs');\n",
       "\n",
       "\t};\n",
       "\n",
       "\n",
       "});});\n",
       "}\n",
       "</script>"
      ],
      "text/plain": [
       "\"if(window['d3'] === undefined ||\\n   window['Nyaplot'] === undefined){\\n    var path = {\\\"d3\\\":\\\"https://cdnjs.cloudflare.com/ajax/libs/d3/3.5.5/d3.min\\\",\\\"downloadable\\\":\\\"http://cdn.rawgit.com/domitry/d3-downloadable/master/d3-downloadable\\\"};\\n\\n\\n\\n    var shim = {\\\"d3\\\":{\\\"exports\\\":\\\"d3\\\"},\\\"downloadable\\\":{\\\"exports\\\":\\\"downloadable\\\"}};\\n\\n    require.config({paths: path, shim:shim});\\n\\n\\nrequire(['d3'], function(d3){window['d3']=d3;console.log('finished loading d3');require(['downloadable'], function(downloadable){window['downloadable']=downloadable;console.log('finished loading downloadable');\\n\\n\\tvar script = d3.select(\\\"head\\\")\\n\\t    .append(\\\"script\\\")\\n\\t    .attr(\\\"src\\\", \\\"http://cdn.rawgit.com/domitry/Nyaplotjs/master/release/nyaplot.js\\\")\\n\\t    .attr(\\\"async\\\", true);\\n\\n\\tscript[0][0].onload = script[0][0].onreadystatechange = function(){\\n\\n\\n\\t    var event = document.createEvent(\\\"HTMLEvents\\\");\\n\\t    event.initEvent(\\\"load_nyaplot\\\",false,false);\\n\\t    window.dispatchEvent(event);\\n\\t    console.log('Finished loading Nyaplotjs');\\n\\n\\t};\\n\\n\\n});});\\n}\\n\""
      ]
     },
     "execution_count": 4,
     "metadata": {},
     "output_type": "execute_result"
    },
    {
     "data": {
      "text/html": [
       "<table><tr><th>host</th><th>uptime</th></tr><tr><td>sagittaire-28</td><td>3.75</td></tr><tr><td>sagittaire-3</td><td>3.77</td></tr><tr><td>sagittaire-24</td><td>3.75</td></tr><tr><td>sagittaire-20</td><td>7.92</td></tr><tr><td>sagittaire-29</td><td>3.75</td></tr><tr><td>sagittaire-30</td><td>3.75</td></tr><tr><td>sagittaire-32</td><td>3.72</td></tr><tr><td>sagittaire-33</td><td>3.43</td></tr><tr><td>sagittaire-31</td><td>3.43</td></tr><tr><td>sagittaire-34</td><td>3.78</td></tr><tr><td>sagittaire-39</td><td>324.48</td></tr><tr><td>sagittaire-38</td><td>3.73</td></tr><tr><td>sagittaire-4</td><td>3.75</td></tr><tr><td>sagittaire-45</td><td>3.73</td></tr><tr><td>sagittaire-42</td><td>3.73</td></tr><tr><td>sagittaire-48</td><td>3.7</td></tr><tr><td>...</td><td>...</td></tr><tr><td>sagittaire-58</td><td>3.7</td></tr></table>"
      ],
      "text/plain": [
       "#<Nyaplot::DataFrame:0x007fa5150d1d50 @name=\"0f5fda76-8a2b-4fcd-8519-888b6fc545d7\", @rows=[{:host=>\"sagittaire-28\", :uptime=>3.75}, {:host=>\"sagittaire-3\", :uptime=>3.77}, {:host=>\"sagittaire-24\", :uptime=>3.75}, {:host=>\"sagittaire-20\", :uptime=>7.92}, {:host=>\"sagittaire-29\", :uptime=>3.75}, {:host=>\"sagittaire-30\", :uptime=>3.75}, {:host=>\"sagittaire-32\", :uptime=>3.72}, {:host=>\"sagittaire-33\", :uptime=>3.43}, {:host=>\"sagittaire-31\", :uptime=>3.43}, {:host=>\"sagittaire-34\", :uptime=>3.78}, {:host=>\"sagittaire-39\", :uptime=>324.48}, {:host=>\"sagittaire-38\", :uptime=>3.73}, {:host=>\"sagittaire-4\", :uptime=>3.75}, {:host=>\"sagittaire-45\", :uptime=>3.73}, {:host=>\"sagittaire-42\", :uptime=>3.73}, {:host=>\"sagittaire-48\", :uptime=>3.7}, {:host=>\"sagittaire-43\", :uptime=>3.7}, {:host=>\"sagittaire-49\", :uptime=>2.12}, {:host=>\"sagittaire-5\", :uptime=>3.75}, {:host=>\"sagittaire-46\", :uptime=>15.13}, {:host=>\"sagittaire-52\", :uptime=>15.15}, {:host=>\"sagittaire-50\", :uptime=>3.72}, {:host=>\"sagittaire-53\", :uptime=>3.72}, {:host=>\"sagittaire-54\", :uptime=>3.7}, {:host=>\"sagittaire-56\", :uptime=>3.68}, {:host=>\"sagittaire-55\", :uptime=>2.12}, {:host=>\"sagittaire-57\", :uptime=>324.43}, {:host=>\"sagittaire-59\", :uptime=>3.68}, {:host=>\"sagittaire-9\", :uptime=>3.77}, {:host=>\"sagittaire-58\", :uptime=>3.7}]>"
      ]
     },
     "execution_count": 4,
     "metadata": {},
     "output_type": "execute_result"
    }
   ],
   "source": [
    "require 'nyaplot'\n",
    "require 'time'\n",
    "\n",
    "now = Time.now.to_i\n",
    "plot = Nyaplot::Plot.new\n",
    "df = Nyaplot::DataFrame.new({\n",
    "    host: h.keys\n",
    "           .map{|x| x.split('.').first},\n",
    "    uptime: h.values\n",
    "             .map{|x| x.first}\n",
    "    .map{|x| ((now - Time.parse(x).to_f)/60).round(2)}\n",
    "    })\n",
    "    "
   ]
  },
  {
   "cell_type": "code",
   "execution_count": 5,
   "metadata": {
    "collapsed": false,
    "scrolled": true
   },
   "outputs": [
    {
     "data": {
      "text/html": [
       "<div id='vis-2242b5c9-27f1-489f-b7c1-9317f5d7581e'></div>\n",
       "<script>\n",
       "(function(){\n",
       "    var render = function(){\n",
       "        var model = {\"panes\":[{\"diagrams\":[{\"type\":\"bar\",\"options\":{\"x\":\"host\",\"y\":\"uptime\"},\"data\":\"0f5fda76-8a2b-4fcd-8519-888b6fc545d7\"}],\"options\":{\"x_label\":\"\",\"y_label\":\"Uptime (ms)\",\"rotate_x_label\":-90,\"width\":700,\"xrange\":[\"sagittaire-28\",\"sagittaire-3\",\"sagittaire-24\",\"sagittaire-20\",\"sagittaire-29\",\"sagittaire-30\",\"sagittaire-32\",\"sagittaire-33\",\"sagittaire-31\",\"sagittaire-34\",\"sagittaire-39\",\"sagittaire-38\",\"sagittaire-4\",\"sagittaire-45\",\"sagittaire-42\",\"sagittaire-48\",\"sagittaire-43\",\"sagittaire-49\",\"sagittaire-5\",\"sagittaire-46\",\"sagittaire-52\",\"sagittaire-50\",\"sagittaire-53\",\"sagittaire-54\",\"sagittaire-56\",\"sagittaire-55\",\"sagittaire-57\",\"sagittaire-59\",\"sagittaire-9\",\"sagittaire-58\"],\"yrange\":[0,324.48]}}],\"data\":{\"0f5fda76-8a2b-4fcd-8519-888b6fc545d7\":[{\"host\":\"sagittaire-28\",\"uptime\":3.75},{\"host\":\"sagittaire-3\",\"uptime\":3.77},{\"host\":\"sagittaire-24\",\"uptime\":3.75},{\"host\":\"sagittaire-20\",\"uptime\":7.92},{\"host\":\"sagittaire-29\",\"uptime\":3.75},{\"host\":\"sagittaire-30\",\"uptime\":3.75},{\"host\":\"sagittaire-32\",\"uptime\":3.72},{\"host\":\"sagittaire-33\",\"uptime\":3.43},{\"host\":\"sagittaire-31\",\"uptime\":3.43},{\"host\":\"sagittaire-34\",\"uptime\":3.78},{\"host\":\"sagittaire-39\",\"uptime\":324.48},{\"host\":\"sagittaire-38\",\"uptime\":3.73},{\"host\":\"sagittaire-4\",\"uptime\":3.75},{\"host\":\"sagittaire-45\",\"uptime\":3.73},{\"host\":\"sagittaire-42\",\"uptime\":3.73},{\"host\":\"sagittaire-48\",\"uptime\":3.7},{\"host\":\"sagittaire-43\",\"uptime\":3.7},{\"host\":\"sagittaire-49\",\"uptime\":2.12},{\"host\":\"sagittaire-5\",\"uptime\":3.75},{\"host\":\"sagittaire-46\",\"uptime\":15.13},{\"host\":\"sagittaire-52\",\"uptime\":15.15},{\"host\":\"sagittaire-50\",\"uptime\":3.72},{\"host\":\"sagittaire-53\",\"uptime\":3.72},{\"host\":\"sagittaire-54\",\"uptime\":3.7},{\"host\":\"sagittaire-56\",\"uptime\":3.68},{\"host\":\"sagittaire-55\",\"uptime\":2.12},{\"host\":\"sagittaire-57\",\"uptime\":324.43},{\"host\":\"sagittaire-59\",\"uptime\":3.68},{\"host\":\"sagittaire-9\",\"uptime\":3.77},{\"host\":\"sagittaire-58\",\"uptime\":3.7}]},\"extension\":[]}\n",
       "        var id_name = '#vis-2242b5c9-27f1-489f-b7c1-9317f5d7581e';\n",
       "        Nyaplot.core.parse(model, id_name);\n",
       "\n",
       "        require(['downloadable'], function(downloadable){\n",
       "          var svg = d3.select(id_name).select(\"svg\");\n",
       "\t  if(!svg.empty())\n",
       "\t    svg.call(downloadable().filename('fig'));\n",
       "\t});\n",
       "    };\n",
       "    if(window['Nyaplot']==undefined){\n",
       "        window.addEventListener('load_nyaplot', render, false);\n",
       "\treturn;\n",
       "    } else {\n",
       "       render();\n",
       "    }\n",
       "})();\n",
       "</script>\n"
      ],
      "text/plain": [
       "#<Nyaplot::Plot:0x007fa5124f7b80 @properties={:diagrams=>[#<Nyaplot::Diagram:0x007fa5124f79c8 @properties={:type=>:bar, :options=>{:x=>:host, :y=>:uptime}, :data=>\"0f5fda76-8a2b-4fcd-8519-888b6fc545d7\"}, @xrange=[\"sagittaire-28\", \"sagittaire-3\", \"sagittaire-24\", \"sagittaire-20\", \"sagittaire-29\", \"sagittaire-30\", \"sagittaire-32\", \"sagittaire-33\", \"sagittaire-31\", \"sagittaire-34\", \"sagittaire-39\", \"sagittaire-38\", \"sagittaire-4\", \"sagittaire-45\", \"sagittaire-42\", \"sagittaire-48\", \"sagittaire-43\", \"sagittaire-49\", \"sagittaire-5\", \"sagittaire-46\", \"sagittaire-52\", \"sagittaire-50\", \"sagittaire-53\", \"sagittaire-54\", \"sagittaire-56\", \"sagittaire-55\", \"sagittaire-57\", \"sagittaire-59\", \"sagittaire-9\", \"sagittaire-58\"], @yrange=[0, 324.48]>], :options=>{:x_label=>\"\", :y_label=>\"Uptime (ms)\", :rotate_x_label=>-90, :width=>700, :xrange=>[\"sagittaire-28\", \"sagittaire-3\", \"sagittaire-24\", \"sagittaire-20\", \"sagittaire-29\", \"sagittaire-30\", \"sagittaire-32\", \"sagittaire-33\", \"sagittaire-31\", \"sagittaire-34\", \"sagittaire-39\", \"sagittaire-38\", \"sagittaire-4\", \"sagittaire-45\", \"sagittaire-42\", \"sagittaire-48\", \"sagittaire-43\", \"sagittaire-49\", \"sagittaire-5\", \"sagittaire-46\", \"sagittaire-52\", \"sagittaire-50\", \"sagittaire-53\", \"sagittaire-54\", \"sagittaire-56\", \"sagittaire-55\", \"sagittaire-57\", \"sagittaire-59\", \"sagittaire-9\", \"sagittaire-58\"], :yrange=>[0, 324.48]}}>"
      ]
     },
     "execution_count": 5,
     "metadata": {},
     "output_type": "execute_result"
    }
   ],
   "source": [
    "plot=Nyaplot::Plot.new\n",
    "plot.add_with_df(df, :bar, :host, :uptime)\n",
    "plot.configure do\n",
    "    x_label('')\n",
    "    y_label('Uptime (ms)')\n",
    "    rotate_x_label(-90)\n",
    "end\n"
   ]
  },
  {
   "cell_type": "code",
   "execution_count": null,
   "metadata": {
    "collapsed": false
   },
   "outputs": [],
   "source": [
    "myxp.clean"
   ]
  }
 ],
 "metadata": {
  "kernelspec": {
   "display_name": "Ruby",
   "language": "ruby",
   "name": "ruby"
  },
  "language_info": {
   "name": "ruby",
   "version": "2.1.2"
  }
 },
 "nbformat": 4,
 "nbformat_minor": 0
}
